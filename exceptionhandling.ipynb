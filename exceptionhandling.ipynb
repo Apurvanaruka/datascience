{
 "cells": [
  {
   "cell_type": "code",
   "execution_count": 17,
   "metadata": {},
   "outputs": [
    {
     "name": "stdout",
     "output_type": "stream",
     "text": [
      "text3.txt file is open for writing mode successfully\n",
      "Else block will execute when try is execute\n",
      "final block will eecute all the time\n"
     ]
    }
   ],
   "source": [
    "try: \n",
    "    file = open('test3.txt','w')\n",
    "    print('text3.txt file is open for writing mode successfully')\n",
    "except Exception as e:\n",
    "    print(\"file not found exception\" , e)\n",
    "else:\n",
    "    print(\"Else block will execute when try is execute\")\n",
    "    file.close()\n",
    "finally:\n",
    "    print('final block will eecute all the time')"
   ]
  },
  {
   "cell_type": "code",
   "execution_count": 29,
   "metadata": {},
   "outputs": [],
   "source": [
    "class Validateage(Exception):\n",
    "    def __inif__(self, msg):\n",
    "        self.msg = msg\n",
    "\n",
    "def validateage(age):\n",
    "    if age < 0:\n",
    "        raise Validateage(\"Entered age is negative\")\n",
    "    elif age > 200:\n",
    "        raise Validateage(\"Entered age is very very high\")\n",
    "    else:\n",
    "        print('entered age is valid')\n",
    "        "
   ]
  },
  {
   "cell_type": "code",
   "execution_count": 33,
   "metadata": {},
   "outputs": [
    {
     "name": "stdout",
     "output_type": "stream",
     "text": [
      "Enter your age = 3\n",
      "entered age is valid\n"
     ]
    }
   ],
   "source": [
    "try:\n",
    "    age = int(input(\"Enter your age = \"))\n",
    "    validateage(age)\n",
    "except Validateage as e:\n",
    "    print(e)"
   ]
  },
  {
   "cell_type": "code",
   "execution_count": 36,
   "metadata": {},
   "outputs": [
    {
     "name": "stdout",
     "output_type": "stream",
     "text": [
      "division by zero\n"
     ]
    }
   ],
   "source": [
    "try:\n",
    "    29/0\n",
    "except ZeroDivisionError as e:\n",
    "    print(e)"
   ]
  },
  {
   "cell_type": "code",
   "execution_count": 38,
   "metadata": {},
   "outputs": [
    {
     "name": "stdout",
     "output_type": "stream",
     "text": [
      "invalid literal for int() with base 10: 'helo'\n"
     ]
    }
   ],
   "source": [
    "try:\n",
    "    int(\"helo\")\n",
    "except (ValueError, TypeError) as e:\n",
    "    print(e)"
   ]
  }
 ],
 "metadata": {
  "kernelspec": {
   "display_name": "Python 3",
   "language": "python",
   "name": "python3"
  },
  "language_info": {
   "codemirror_mode": {
    "name": "ipython",
    "version": 3
   },
   "file_extension": ".py",
   "mimetype": "text/x-python",
   "name": "python",
   "nbconvert_exporter": "python",
   "pygments_lexer": "ipython3",
   "version": "3.7.3"
  }
 },
 "nbformat": 4,
 "nbformat_minor": 2
}
