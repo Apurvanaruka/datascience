{
 "cells": [
  {
   "cell_type": "code",
   "execution_count": 2,
   "metadata": {},
   "outputs": [],
   "source": [
    "#file handling"
   ]
  },
  {
   "cell_type": "code",
   "execution_count": 15,
   "metadata": {},
   "outputs": [],
   "source": [
    "f = open('Test.txt','w')"
   ]
  },
  {
   "cell_type": "code",
   "execution_count": 6,
   "metadata": {},
   "outputs": [
    {
     "name": "stdout",
     "output_type": "stream",
     "text": [
      " Test.txt                  'lambda funtion.ipynb'\r\n",
      " Untitled.ipynb             listcompairsion.ipynb\r\n",
      " Untitled1.ipynb           'map reduce and filter funtion.ipynb'\r\n",
      " demo.txt                   writer.py\r\n",
      "'generator funtion.ipynb'\r\n"
     ]
    }
   ],
   "source": [
    "ls"
   ]
  },
  {
   "cell_type": "code",
   "execution_count": 12,
   "metadata": {},
   "outputs": [
    {
     "data": {
      "text/plain": [
       "'/home/apurvanaruka/Desktop/datascience/jupyter notebook'"
      ]
     },
     "execution_count": 12,
     "metadata": {},
     "output_type": "execute_result"
    }
   ],
   "source": [
    "pwd"
   ]
  },
  {
   "cell_type": "code",
   "execution_count": 17,
   "metadata": {},
   "outputs": [
    {
     "data": {
      "text/plain": [
       "15"
      ]
     },
     "execution_count": 17,
     "metadata": {},
     "output_type": "execute_result"
    }
   ],
   "source": [
    "f.write('This is my file')\n"
   ]
  },
  {
   "cell_type": "code",
   "execution_count": 18,
   "metadata": {},
   "outputs": [],
   "source": [
    "f.close()\n"
   ]
  },
  {
   "cell_type": "code",
   "execution_count": 20,
   "metadata": {},
   "outputs": [],
   "source": [
    "f = open('Test.txt','a')"
   ]
  },
  {
   "cell_type": "code",
   "execution_count": 21,
   "metadata": {},
   "outputs": [
    {
     "data": {
      "text/plain": [
       "46"
      ]
     },
     "execution_count": 21,
     "metadata": {},
     "output_type": "execute_result"
    }
   ],
   "source": [
    "f.write('This is new line which is append by the a mode')"
   ]
  },
  {
   "cell_type": "code",
   "execution_count": 23,
   "metadata": {},
   "outputs": [],
   "source": [
    "f.close()"
   ]
  },
  {
   "cell_type": "code",
   "execution_count": 34,
   "metadata": {},
   "outputs": [
    {
     "name": "stdout",
     "output_type": "stream",
     "text": [
      "This is my fileThis is my file This is new line which is append by the a mode\n"
     ]
    }
   ],
   "source": [
    "with open('Test.txt' ,'r') as f:\n",
    "    print(f.read())"
   ]
  },
  {
   "cell_type": "code",
   "execution_count": 47,
   "metadata": {},
   "outputs": [],
   "source": [
    "with open('Test.txt', 'a') as f:\n",
    "    for i in range(20):\n",
    "        f.write(f'{i} This is new line in this file.\\n')"
   ]
  },
  {
   "cell_type": "code",
   "execution_count": 48,
   "metadata": {},
   "outputs": [
    {
     "name": "stdout",
     "output_type": "stream",
     "text": [
      "This is my fileThis is my file This is new line which is append by the a mode This is new line in this file.\n",
      " This is new line in this file.\n",
      " This is new line in this file.\n",
      " This is new line in this file.\n",
      " This is new line in this file.\n",
      " This is new line in this file.\n",
      " This is new line in this file.\n",
      " This is new line in this file.\n",
      " This is new line in this file.\n",
      " This is new line in this file.\n",
      " This is new line in this file.\n",
      " This is new line in this file.\n",
      " This is new line in this file.\n",
      " This is new line in this file.\n",
      " This is new line in this file.\n",
      " This is new line in this file.\n",
      " This is new line in this file.\n",
      " This is new line in this file.\n",
      " This is new line in this file.\n",
      " This is new line in this file.\n",
      " This is new line in this file.\n",
      "0 This is new line in this file.\n",
      "1 This is new line in this file.\n",
      "2 This is new line in this file.\n",
      "3 This is new line in this file.\n",
      "4 This is new line in this file.\n",
      "5 This is new line in this file.\n",
      "6 This is new line in this file.\n",
      "7 This is new line in this file.\n",
      "8 This is new line in this file.\n",
      "9 This is new line in this file.\n",
      "10 This is new line in this file.\n",
      "11 This is new line in this file.\n",
      "12 This is new line in this file.\n",
      "13 This is new line in this file.\n",
      "14 This is new line in this file.\n",
      "15 This is new line in this file.\n",
      "16 This is new line in this file.\n",
      "17 This is new line in this file.\n",
      "18 This is new line in this file.\n",
      "19 This is new line in this file.\n",
      "\n"
     ]
    }
   ],
   "source": [
    "with open('Test.txt','r') as f:\n",
    "    print(f.read())"
   ]
  },
  {
   "cell_type": "code",
   "execution_count": 4,
   "metadata": {},
   "outputs": [],
   "source": []
  },
  {
   "cell_type": "code",
   "execution_count": 7,
   "metadata": {},
   "outputs": [],
   "source": [
    "import os\n",
    "\n",
    "os.rename('Text.txt','test.txt')"
   ]
  },
  {
   "cell_type": "code",
   "execution_count": 2,
   "metadata": {},
   "outputs": [
    {
     "data": {
      "text/plain": [
       "'copide_file.txt'"
      ]
     },
     "execution_count": 2,
     "metadata": {},
     "output_type": "execute_result"
    }
   ],
   "source": [
    "import shutil\n",
    "shutil.copy('Text.txt','copide_file.txt')"
   ]
  },
  {
   "cell_type": "code",
   "execution_count": 12,
   "metadata": {},
   "outputs": [
    {
     "ename": "FileNotFoundError",
     "evalue": "[Errno 2] No such file or directory: 'test.txt'",
     "output_type": "error",
     "traceback": [
      "\u001b[0;31m---------------------------------------------------------------------------\u001b[0m",
      "\u001b[0;31mFileNotFoundError\u001b[0m                         Traceback (most recent call last)",
      "\u001b[0;32m<ipython-input-12-a13845e019d0>\u001b[0m in \u001b[0;36m<module>\u001b[0;34m\u001b[0m\n\u001b[0;32m----> 1\u001b[0;31m \u001b[0mos\u001b[0m\u001b[0;34m.\u001b[0m\u001b[0mremove\u001b[0m\u001b[0;34m(\u001b[0m\u001b[0;34m'test.txt'\u001b[0m\u001b[0;34m)\u001b[0m\u001b[0;34m\u001b[0m\u001b[0;34m\u001b[0m\u001b[0m\n\u001b[0m",
      "\u001b[0;31mFileNotFoundError\u001b[0m: [Errno 2] No such file or directory: 'test.txt'"
     ]
    }
   ],
   "source": [
    "os.remove('test.txt')"
   ]
  },
  {
   "cell_type": "code",
   "execution_count": 18,
   "metadata": {},
   "outputs": [
    {
     "name": "stdout",
     "output_type": "stream",
     "text": [
      "0 This is new line in this file.\n",
      "\n",
      "1 This is new line in this file.\n",
      "\n",
      "is new line in this file.\n",
      "\n"
     ]
    }
   ],
   "source": [
    "with open('copide_file.txt','r') as f:\n",
    "    print(f.readline())\n",
    "    print(f.readline())\n",
    "    f.seek(40)\n",
    "    print(f.readline())\n",
    "    "
   ]
  },
  {
   "cell_type": "code",
   "execution_count": 26,
   "metadata": {},
   "outputs": [
    {
     "data": {
      "text/plain": [
       "os.stat_result(st_mode=33204, st_ino=5768920, st_dev=66309, st_nlink=1, st_uid=1000, st_gid=1000, st_size=5362, st_atime=1696039544, st_mtime=1696039533, st_ctime=1696039533)"
      ]
     },
     "execution_count": 26,
     "metadata": {},
     "output_type": "execute_result"
    }
   ],
   "source": [
    "os.stat('copide_file.txt')"
   ]
  },
  {
   "cell_type": "code",
   "execution_count": 32,
   "metadata": {},
   "outputs": [
    {
     "data": {
      "text/plain": [
       "{'Name': 'Apurva Naruka',\n",
       " 'Age': 21,\n",
       " 'Phone': 9602119226,\n",
       " 'languages': ['Python', 'c++', 'c', 'Java', 'js'],\n",
       " 'course': 'B.Tech'}"
      ]
     },
     "execution_count": 32,
     "metadata": {},
     "output_type": "execute_result"
    }
   ],
   "source": [
    "dic = {\n",
    "    'Name' : 'Apurva Naruka',\n",
    "    'Age' : 21,\n",
    "    'Phone' : 9602119226,\n",
    "    'languages' : ['Python', 'c++', 'c', 'Java','js'],\n",
    "    'course' : 'B.Tech',\n",
    "}\n",
    "dic"
   ]
  },
  {
   "cell_type": "code",
   "execution_count": 36,
   "metadata": {},
   "outputs": [],
   "source": [
    "import json\n",
    "with open('apurva.json','w') as f:\n",
    "    json.dump(dic, f)\n",
    "    "
   ]
  },
  {
   "cell_type": "code",
   "execution_count": 38,
   "metadata": {},
   "outputs": [
    {
     "name": "stdout",
     "output_type": "stream",
     "text": [
      "{'Name': 'Apurva Naruka', 'Age': 21, 'Phone': 9602119226, 'languages': ['Python', 'c++', 'c', 'Java', 'js'], 'course': 'B.Tech'}\n"
     ]
    }
   ],
   "source": [
    "with open('apurva.json','r') as f:\n",
    "    j = json.load(f)\n",
    "    print(j)"
   ]
  },
  {
   "cell_type": "code",
   "execution_count": 39,
   "metadata": {},
   "outputs": [],
   "source": [
    "data = [\n",
    "    ['Apurva','apurva@gmail.com','alwar'],\n",
    "    ['Rohit', 'rohit@gmail.com','jaipur'],\n",
    "    ['pawan','pawna@gmail.com','ajmer']\n",
    "    ]"
   ]
  },
  {
   "cell_type": "code",
   "execution_count": 47,
   "metadata": {},
   "outputs": [],
   "source": [
    "import csv\n",
    "with open('apurva.csv', 'w') as f:\n",
    "    writer = csv.writer(f)\n",
    "    for i in data:\n",
    "        writer.writerow(i)\n",
    "    "
   ]
  },
  {
   "cell_type": "code",
   "execution_count": 49,
   "metadata": {},
   "outputs": [
    {
     "name": "stdout",
     "output_type": "stream",
     "text": [
      "['Apurva', 'apurva@gmail.com', 'alwar']\n",
      "['Rohit', 'rohit@gmail.com', 'jaipur']\n",
      "['pawan', 'pawna@gmail.com', 'ajmer']\n"
     ]
    }
   ],
   "source": [
    "import csv\n",
    "with open('apurva.csv','r') as f:\n",
    "    reader = csv.reader(f)\n",
    "    for i in reader:\n",
    "        print(i)"
   ]
  },
  {
   "cell_type": "code",
   "execution_count": 62,
   "metadata": {},
   "outputs": [],
   "source": [
    "with open('data.bin','wb') as f:\n",
    "    f.write(b'\\x01\\x02\\x02\\0x314334')"
   ]
  },
  {
   "cell_type": "code",
   "execution_count": 65,
   "metadata": {},
   "outputs": [
    {
     "name": "stdout",
     "output_type": "stream",
     "text": [
      "b'\\x01\\x02\\x02\\x00x314334'\n"
     ]
    }
   ],
   "source": [
    "with open('data.bin','rb') as f:\n",
    "    print(f.read())"
   ]
  },
  {
   "cell_type": "code",
   "execution_count": 70,
   "metadata": {},
   "outputs": [],
   "source": [
    "import io\n"
   ]
  },
  {
   "cell_type": "code",
   "execution_count": 87,
   "metadata": {},
   "outputs": [],
   "source": [
    "with open('hello.txt','wb') as f:\n",
    "    file = io.BufferedWriter(f)\n",
    "    file.write(b'This is line number one\\n')\n",
    "    file.write(b'THis is second line')\n",
    "    file.flush() # it is must for closing to the file "
   ]
  },
  {
   "cell_type": "code",
   "execution_count": 88,
   "metadata": {},
   "outputs": [
    {
     "name": "stdout",
     "output_type": "stream",
     "text": [
      "b'This is line number one\\nTHis is second line'\n"
     ]
    }
   ],
   "source": [
    "with open('hello.txt','rb') as f:\n",
    "    file = io.BufferedReader(f)\n",
    "    print(file.read())"
   ]
  }
 ],
 "metadata": {
  "kernelspec": {
   "display_name": "Python 3",
   "language": "python",
   "name": "python3"
  },
  "language_info": {
   "codemirror_mode": {
    "name": "ipython",
    "version": 3
   },
   "file_extension": ".py",
   "mimetype": "text/x-python",
   "name": "python",
   "nbconvert_exporter": "python",
   "pygments_lexer": "ipython3",
   "version": "3.7.3"
  }
 },
 "nbformat": 4,
 "nbformat_minor": 2
}
